{
 "cells": [
  {
   "cell_type": "code",
   "execution_count": 1,
   "id": "0f1aae98-7c20-4381-9f0c-4192f27f7b80",
   "metadata": {},
   "outputs": [],
   "source": [
    "import pandas as pd\n",
    "import numpy as np\n",
    "import matplotlib.pyplot as plt\n",
    "import seaborn as sns\n",
    "import plotly\n",
    "import ast\n",
    "import plotly.express as px"
   ]
  },
  {
   "cell_type": "code",
   "execution_count": 2,
   "id": "886acd99-dacd-4553-8146-8bf3f4224a4e",
   "metadata": {},
   "outputs": [
    {
     "name": "stdout",
     "output_type": "stream",
     "text": [
      "(18, 4)\n"
     ]
    },
    {
     "data": {
      "text/html": [
       "<div>\n",
       "<style scoped>\n",
       "    .dataframe tbody tr th:only-of-type {\n",
       "        vertical-align: middle;\n",
       "    }\n",
       "\n",
       "    .dataframe tbody tr th {\n",
       "        vertical-align: top;\n",
       "    }\n",
       "\n",
       "    .dataframe thead th {\n",
       "        text-align: right;\n",
       "    }\n",
       "</style>\n",
       "<table border=\"1\" class=\"dataframe\">\n",
       "  <thead>\n",
       "    <tr style=\"text-align: right;\">\n",
       "      <th></th>\n",
       "      <th>Year</th>\n",
       "      <th>Population</th>\n",
       "      <th>Alcoholics</th>\n",
       "      <th>A/P</th>\n",
       "    </tr>\n",
       "  </thead>\n",
       "  <tbody>\n",
       "    <tr>\n",
       "      <th>0</th>\n",
       "      <td>2000</td>\n",
       "      <td>19.1530</td>\n",
       "      <td>1</td>\n",
       "      <td>0.052211</td>\n",
       "    </tr>\n",
       "    <tr>\n",
       "      <th>1</th>\n",
       "      <td>2001</td>\n",
       "      <td>19.4130</td>\n",
       "      <td>2</td>\n",
       "      <td>0.103024</td>\n",
       "    </tr>\n",
       "    <tr>\n",
       "      <th>2</th>\n",
       "      <td>2002</td>\n",
       "      <td>19.6514</td>\n",
       "      <td>3</td>\n",
       "      <td>0.152661</td>\n",
       "    </tr>\n",
       "    <tr>\n",
       "      <th>3</th>\n",
       "      <td>2003</td>\n",
       "      <td>19.8954</td>\n",
       "      <td>5</td>\n",
       "      <td>0.251314</td>\n",
       "    </tr>\n",
       "    <tr>\n",
       "      <th>4</th>\n",
       "      <td>2004</td>\n",
       "      <td>20.1274</td>\n",
       "      <td>7</td>\n",
       "      <td>0.347785</td>\n",
       "    </tr>\n",
       "  </tbody>\n",
       "</table>\n",
       "</div>"
      ],
      "text/plain": [
       "   Year  Population  Alcoholics       A/P\n",
       "0  2000     19.1530           1  0.052211\n",
       "1  2001     19.4130           2  0.103024\n",
       "2  2002     19.6514           3  0.152661\n",
       "3  2003     19.8954           5  0.251314\n",
       "4  2004     20.1274           7  0.347785"
      ]
     },
     "execution_count": 2,
     "metadata": {},
     "output_type": "execute_result"
    }
   ],
   "source": [
    "df_alc = pd.read_excel(\"Alcoholics Visualization.xlsx\")\n",
    "print(df_alc.shape)\n",
    "df_alc.head()"
   ]
  },
  {
   "cell_type": "code",
   "execution_count": 3,
   "id": "e0d9a02a-94c4-4d51-9543-6a9740104536",
   "metadata": {},
   "outputs": [
    {
     "name": "stdout",
     "output_type": "stream",
     "text": [
      "(26648, 11)\n"
     ]
    },
    {
     "data": {
      "text/html": [
       "<div>\n",
       "<style scoped>\n",
       "    .dataframe tbody tr th:only-of-type {\n",
       "        vertical-align: middle;\n",
       "    }\n",
       "\n",
       "    .dataframe tbody tr th {\n",
       "        vertical-align: top;\n",
       "    }\n",
       "\n",
       "    .dataframe thead th {\n",
       "        text-align: right;\n",
       "    }\n",
       "</style>\n",
       "<table border=\"1\" class=\"dataframe\">\n",
       "  <thead>\n",
       "    <tr style=\"text-align: right;\">\n",
       "      <th></th>\n",
       "      <th>A1</th>\n",
       "      <th>A2</th>\n",
       "      <th>A3</th>\n",
       "      <th>A4</th>\n",
       "      <th>YourHealth</th>\n",
       "      <th>Sex</th>\n",
       "      <th>Remoteness</th>\n",
       "      <th>Marijuana</th>\n",
       "      <th>Illicit</th>\n",
       "      <th>AgeGroup</th>\n",
       "      <th>Tobacco</th>\n",
       "    </tr>\n",
       "  </thead>\n",
       "  <tbody>\n",
       "    <tr>\n",
       "      <th>0</th>\n",
       "      <td>Alcohol</td>\n",
       "      <td>Alcohol</td>\n",
       "      <td>Excessive drinking of alcohol</td>\n",
       "      <td>NaN</td>\n",
       "      <td>Fair</td>\n",
       "      <td>Male</td>\n",
       "      <td>Major Cities</td>\n",
       "      <td>Never used</td>\n",
       "      <td>Never used</td>\n",
       "      <td>60+</td>\n",
       "      <td>Never smoked (more than 100 cigarettes)</td>\n",
       "    </tr>\n",
       "    <tr>\n",
       "      <th>1</th>\n",
       "      <td>Cocaine</td>\n",
       "      <td>Alcohol</td>\n",
       "      <td>Excessive drinking of alcohol</td>\n",
       "      <td>Neither approve nor disapprove</td>\n",
       "      <td>Very good</td>\n",
       "      <td>Female</td>\n",
       "      <td>Major Cities</td>\n",
       "      <td>Never used</td>\n",
       "      <td>Never used</td>\n",
       "      <td>50-59</td>\n",
       "      <td>Never smoked (more than 100 cigarettes)</td>\n",
       "    </tr>\n",
       "    <tr>\n",
       "      <th>2</th>\n",
       "      <td>Meth|amphetamine</td>\n",
       "      <td>Tobacco</td>\n",
       "      <td>Excessive drinking of alcohol</td>\n",
       "      <td>Disapprove</td>\n",
       "      <td>Excellent</td>\n",
       "      <td>Female</td>\n",
       "      <td>Major Cities</td>\n",
       "      <td>Ex-user</td>\n",
       "      <td>Recent user</td>\n",
       "      <td>30-39</td>\n",
       "      <td>Never smoked (more than 100 cigarettes)</td>\n",
       "    </tr>\n",
       "    <tr>\n",
       "      <th>3</th>\n",
       "      <td>Meth|amphetamine</td>\n",
       "      <td>Tobacco</td>\n",
       "      <td>Excessive drinking of alcohol</td>\n",
       "      <td>Disapprove</td>\n",
       "      <td>Very good</td>\n",
       "      <td>Female</td>\n",
       "      <td>Major Cities</td>\n",
       "      <td>Ex-user</td>\n",
       "      <td>Ex-user</td>\n",
       "      <td>30-39</td>\n",
       "      <td>Ex-smoker</td>\n",
       "    </tr>\n",
       "    <tr>\n",
       "      <th>4</th>\n",
       "      <td>Meth|amphetamine</td>\n",
       "      <td>Tobacco</td>\n",
       "      <td>Tobacco smoking</td>\n",
       "      <td>Neither approve nor disapprove</td>\n",
       "      <td>Good</td>\n",
       "      <td>Male</td>\n",
       "      <td>Major Cities</td>\n",
       "      <td>Never used</td>\n",
       "      <td>Never used</td>\n",
       "      <td>25-29</td>\n",
       "      <td>Never smoked (more than 100 cigarettes)</td>\n",
       "    </tr>\n",
       "  </tbody>\n",
       "</table>\n",
       "</div>"
      ],
      "text/plain": [
       "                 A1       A2                             A3  \\\n",
       "0           Alcohol  Alcohol  Excessive drinking of alcohol   \n",
       "1           Cocaine  Alcohol  Excessive drinking of alcohol   \n",
       "2  Meth|amphetamine  Tobacco  Excessive drinking of alcohol   \n",
       "3  Meth|amphetamine  Tobacco  Excessive drinking of alcohol   \n",
       "4  Meth|amphetamine  Tobacco                Tobacco smoking   \n",
       "\n",
       "                               A4 YourHealth     Sex    Remoteness  \\\n",
       "0                             NaN       Fair    Male  Major Cities   \n",
       "1  Neither approve nor disapprove  Very good  Female  Major Cities   \n",
       "2                      Disapprove  Excellent  Female  Major Cities   \n",
       "3                      Disapprove  Very good  Female  Major Cities   \n",
       "4  Neither approve nor disapprove       Good    Male  Major Cities   \n",
       "\n",
       "    Marijuana      Illicit AgeGroup                                  Tobacco  \n",
       "0  Never used   Never used      60+  Never smoked (more than 100 cigarettes)  \n",
       "1  Never used   Never used    50-59  Never smoked (more than 100 cigarettes)  \n",
       "2     Ex-user  Recent user    30-39  Never smoked (more than 100 cigarettes)  \n",
       "3     Ex-user      Ex-user    30-39                                Ex-smoker  \n",
       "4  Never used   Never used    25-29  Never smoked (more than 100 cigarettes)  "
      ]
     },
     "execution_count": 3,
     "metadata": {},
     "output_type": "execute_result"
    }
   ],
   "source": [
    "df_drug = pd.read_excel(\"DrugResearchVimal.xlsx\")\n",
    "print(df_drug.shape)\n",
    "df_drug.head()"
   ]
  },
  {
   "cell_type": "code",
   "execution_count": 4,
   "id": "62bf7cb9-4ed4-4fd8-b58d-d167298fbd8d",
   "metadata": {},
   "outputs": [
    {
     "name": "stdout",
     "output_type": "stream",
     "text": [
      "(129, 34)\n"
     ]
    },
    {
     "data": {
      "text/html": [
       "<div>\n",
       "<style scoped>\n",
       "    .dataframe tbody tr th:only-of-type {\n",
       "        vertical-align: middle;\n",
       "    }\n",
       "\n",
       "    .dataframe tbody tr th {\n",
       "        vertical-align: top;\n",
       "    }\n",
       "\n",
       "    .dataframe thead th {\n",
       "        text-align: right;\n",
       "    }\n",
       "</style>\n",
       "<table border=\"1\" class=\"dataframe\">\n",
       "  <thead>\n",
       "    <tr style=\"text-align: right;\">\n",
       "      <th></th>\n",
       "      <th>Name</th>\n",
       "      <th>What</th>\n",
       "      <th>Who</th>\n",
       "      <th>Address 1</th>\n",
       "      <th>Address 2</th>\n",
       "      <th>Suburb</th>\n",
       "      <th>Phone</th>\n",
       "      <th>Phone 2</th>\n",
       "      <th>Free Call</th>\n",
       "      <th>Email</th>\n",
       "      <th>...</th>\n",
       "      <th>Nearest train station</th>\n",
       "      <th>Category 1</th>\n",
       "      <th>Category 2</th>\n",
       "      <th>Category 3</th>\n",
       "      <th>Category 4</th>\n",
       "      <th>Category 5</th>\n",
       "      <th>Category 6</th>\n",
       "      <th>Longitude</th>\n",
       "      <th>Latitude</th>\n",
       "      <th>Geocoded Location</th>\n",
       "    </tr>\n",
       "  </thead>\n",
       "  <tbody>\n",
       "    <tr>\n",
       "      <th>0</th>\n",
       "      <td>Child Protection Emergency Service</td>\n",
       "      <td>NaN</td>\n",
       "      <td>NaN</td>\n",
       "      <td>NaN</td>\n",
       "      <td>NaN</td>\n",
       "      <td>NaN</td>\n",
       "      <td>13 12 78</td>\n",
       "      <td>NaN</td>\n",
       "      <td>NaN</td>\n",
       "      <td>NaN</td>\n",
       "      <td>...</td>\n",
       "      <td>NaN</td>\n",
       "      <td>Helpful phone number</td>\n",
       "      <td>NaN</td>\n",
       "      <td>NaN</td>\n",
       "      <td>NaN</td>\n",
       "      <td>NaN</td>\n",
       "      <td>NaN</td>\n",
       "      <td>0.0</td>\n",
       "      <td>0.0</td>\n",
       "      <td>NaN</td>\n",
       "    </tr>\n",
       "    <tr>\n",
       "      <th>1</th>\n",
       "      <td>Direct Line (24-hr drug and alcohol counselling)</td>\n",
       "      <td>NaN</td>\n",
       "      <td>NaN</td>\n",
       "      <td>NaN</td>\n",
       "      <td>NaN</td>\n",
       "      <td>NaN</td>\n",
       "      <td>NaN</td>\n",
       "      <td>NaN</td>\n",
       "      <td>1800 888 236</td>\n",
       "      <td>NaN</td>\n",
       "      <td>...</td>\n",
       "      <td>NaN</td>\n",
       "      <td>Helpful phone number</td>\n",
       "      <td>NaN</td>\n",
       "      <td>NaN</td>\n",
       "      <td>NaN</td>\n",
       "      <td>NaN</td>\n",
       "      <td>NaN</td>\n",
       "      <td>0.0</td>\n",
       "      <td>0.0</td>\n",
       "      <td>NaN</td>\n",
       "    </tr>\n",
       "    <tr>\n",
       "      <th>2</th>\n",
       "      <td>Gamblers Help Line Victoria</td>\n",
       "      <td>NaN</td>\n",
       "      <td>NaN</td>\n",
       "      <td>NaN</td>\n",
       "      <td>NaN</td>\n",
       "      <td>NaN</td>\n",
       "      <td>NaN</td>\n",
       "      <td>NaN</td>\n",
       "      <td>1800 858 858</td>\n",
       "      <td>NaN</td>\n",
       "      <td>...</td>\n",
       "      <td>NaN</td>\n",
       "      <td>Helpful phone number</td>\n",
       "      <td>NaN</td>\n",
       "      <td>NaN</td>\n",
       "      <td>NaN</td>\n",
       "      <td>NaN</td>\n",
       "      <td>NaN</td>\n",
       "      <td>0.0</td>\n",
       "      <td>0.0</td>\n",
       "      <td>NaN</td>\n",
       "    </tr>\n",
       "    <tr>\n",
       "      <th>3</th>\n",
       "      <td>Kids Help line</td>\n",
       "      <td>NaN</td>\n",
       "      <td>NaN</td>\n",
       "      <td>NaN</td>\n",
       "      <td>NaN</td>\n",
       "      <td>NaN</td>\n",
       "      <td>NaN</td>\n",
       "      <td>NaN</td>\n",
       "      <td>1800 551 800</td>\n",
       "      <td>NaN</td>\n",
       "      <td>...</td>\n",
       "      <td>NaN</td>\n",
       "      <td>Helpful phone number</td>\n",
       "      <td>NaN</td>\n",
       "      <td>NaN</td>\n",
       "      <td>NaN</td>\n",
       "      <td>NaN</td>\n",
       "      <td>NaN</td>\n",
       "      <td>0.0</td>\n",
       "      <td>0.0</td>\n",
       "      <td>NaN</td>\n",
       "    </tr>\n",
       "    <tr>\n",
       "      <th>4</th>\n",
       "      <td>Lifeline (24 hour crisis counselling)</td>\n",
       "      <td>NaN</td>\n",
       "      <td>NaN</td>\n",
       "      <td>NaN</td>\n",
       "      <td>NaN</td>\n",
       "      <td>NaN</td>\n",
       "      <td>13 11 14</td>\n",
       "      <td>NaN</td>\n",
       "      <td>NaN</td>\n",
       "      <td>NaN</td>\n",
       "      <td>...</td>\n",
       "      <td>NaN</td>\n",
       "      <td>Helpful phone number</td>\n",
       "      <td>NaN</td>\n",
       "      <td>NaN</td>\n",
       "      <td>NaN</td>\n",
       "      <td>NaN</td>\n",
       "      <td>NaN</td>\n",
       "      <td>0.0</td>\n",
       "      <td>0.0</td>\n",
       "      <td>NaN</td>\n",
       "    </tr>\n",
       "  </tbody>\n",
       "</table>\n",
       "<p>5 rows × 34 columns</p>\n",
       "</div>"
      ],
      "text/plain": [
       "                                               Name What  Who Address 1  \\\n",
       "0                Child Protection Emergency Service  NaN  NaN       NaN   \n",
       "1  Direct Line (24-hr drug and alcohol counselling)  NaN  NaN       NaN   \n",
       "2                       Gamblers Help Line Victoria  NaN  NaN       NaN   \n",
       "3                                    Kids Help line  NaN  NaN       NaN   \n",
       "4             Lifeline (24 hour crisis counselling)  NaN  NaN       NaN   \n",
       "\n",
       "  Address 2 Suburb     Phone Phone 2     Free Call Email  ...  \\\n",
       "0       NaN    NaN  13 12 78     NaN           NaN   NaN  ...   \n",
       "1       NaN    NaN       NaN     NaN  1800 888 236   NaN  ...   \n",
       "2       NaN    NaN       NaN     NaN  1800 858 858   NaN  ...   \n",
       "3       NaN    NaN       NaN     NaN  1800 551 800   NaN  ...   \n",
       "4       NaN    NaN  13 11 14     NaN           NaN   NaN  ...   \n",
       "\n",
       "  Nearest train station            Category 1 Category 2 Category 3  \\\n",
       "0                   NaN  Helpful phone number        NaN        NaN   \n",
       "1                   NaN  Helpful phone number        NaN        NaN   \n",
       "2                   NaN  Helpful phone number        NaN        NaN   \n",
       "3                   NaN  Helpful phone number        NaN        NaN   \n",
       "4                   NaN  Helpful phone number        NaN        NaN   \n",
       "\n",
       "  Category 4 Category 5 Category 6 Longitude Latitude Geocoded Location  \n",
       "0        NaN        NaN        NaN       0.0      0.0               NaN  \n",
       "1        NaN        NaN        NaN       0.0      0.0               NaN  \n",
       "2        NaN        NaN        NaN       0.0      0.0               NaN  \n",
       "3        NaN        NaN        NaN       0.0      0.0               NaN  \n",
       "4        NaN        NaN        NaN       0.0      0.0               NaN  \n",
       "\n",
       "[5 rows x 34 columns]"
      ]
     },
     "execution_count": 4,
     "metadata": {},
     "output_type": "execute_result"
    }
   ],
   "source": [
    "df_support = pd.read_excel(\"SupportServicesVimal.xlsx\")\n",
    "print(df_support.shape)\n",
    "df_support.head()"
   ]
  },
  {
   "cell_type": "code",
   "execution_count": 5,
   "id": "79a972d9-77fa-427e-b639-d9ed8e4f451f",
   "metadata": {},
   "outputs": [
    {
     "name": "stdout",
     "output_type": "stream",
     "text": [
      "(88, 34)\n"
     ]
    },
    {
     "data": {
      "text/html": [
       "<div>\n",
       "<style scoped>\n",
       "    .dataframe tbody tr th:only-of-type {\n",
       "        vertical-align: middle;\n",
       "    }\n",
       "\n",
       "    .dataframe tbody tr th {\n",
       "        vertical-align: top;\n",
       "    }\n",
       "\n",
       "    .dataframe thead th {\n",
       "        text-align: right;\n",
       "    }\n",
       "</style>\n",
       "<table border=\"1\" class=\"dataframe\">\n",
       "  <thead>\n",
       "    <tr style=\"text-align: right;\">\n",
       "      <th></th>\n",
       "      <th>Name</th>\n",
       "      <th>What</th>\n",
       "      <th>Who</th>\n",
       "      <th>Address 1</th>\n",
       "      <th>Address 2</th>\n",
       "      <th>Suburb</th>\n",
       "      <th>Phone</th>\n",
       "      <th>Phone 2</th>\n",
       "      <th>Free Call</th>\n",
       "      <th>Email</th>\n",
       "      <th>...</th>\n",
       "      <th>Nearest train station</th>\n",
       "      <th>Category 1</th>\n",
       "      <th>Category 2</th>\n",
       "      <th>Category 3</th>\n",
       "      <th>Category 4</th>\n",
       "      <th>Category 5</th>\n",
       "      <th>Category 6</th>\n",
       "      <th>Longitude</th>\n",
       "      <th>Latitude</th>\n",
       "      <th>Geocoded Location</th>\n",
       "    </tr>\n",
       "  </thead>\n",
       "  <tbody>\n",
       "    <tr>\n",
       "      <th>11</th>\n",
       "      <td>Aboriginal Family Violence Prevention and Lega...</td>\n",
       "      <td>Legal Services, Counselling Support, Informati...</td>\n",
       "      <td>NaN</td>\n",
       "      <td>Level 3</td>\n",
       "      <td>70-80 Wellington Street</td>\n",
       "      <td>Collingwood</td>\n",
       "      <td>9244 3333</td>\n",
       "      <td>NaN</td>\n",
       "      <td>1800 105 303</td>\n",
       "      <td>NaN</td>\n",
       "      <td>...</td>\n",
       "      <td>NaN</td>\n",
       "      <td>Legal / Financial Advice</td>\n",
       "      <td>Counselling and Psychiatric Services</td>\n",
       "      <td>NaN</td>\n",
       "      <td>NaN</td>\n",
       "      <td>NaN</td>\n",
       "      <td>NaN</td>\n",
       "      <td>144.986299</td>\n",
       "      <td>-37.806427</td>\n",
       "      <td>(-37.806426999999999, 144.986299)</td>\n",
       "    </tr>\n",
       "    <tr>\n",
       "      <th>12</th>\n",
       "      <td>Action Centre</td>\n",
       "      <td>contraception, sexuality and gender issues, pr...</td>\n",
       "      <td>Services are for under 25 year olds</td>\n",
       "      <td>Level 1</td>\n",
       "      <td>92-94 Elizabeth Street</td>\n",
       "      <td>Melbourne</td>\n",
       "      <td>9660 4700</td>\n",
       "      <td>NaN</td>\n",
       "      <td>1800 013 952</td>\n",
       "      <td>NaN</td>\n",
       "      <td>...</td>\n",
       "      <td>Flinders Street</td>\n",
       "      <td>Health Services / Pharmacy</td>\n",
       "      <td>Counselling and Psychiatric Services</td>\n",
       "      <td>NaN</td>\n",
       "      <td>NaN</td>\n",
       "      <td>NaN</td>\n",
       "      <td>NaN</td>\n",
       "      <td>144.964170</td>\n",
       "      <td>-37.815731</td>\n",
       "      <td>(-37.815731, 144.96417)</td>\n",
       "    </tr>\n",
       "    <tr>\n",
       "      <th>13</th>\n",
       "      <td>Adult Outreach Support Services</td>\n",
       "      <td>Adult Outreach Support Services works with peo...</td>\n",
       "      <td>People who are homeless, or at risk of homeles...</td>\n",
       "      <td>NaN</td>\n",
       "      <td>179 Flemington Road</td>\n",
       "      <td>North Melbourne</td>\n",
       "      <td>9329 5100</td>\n",
       "      <td>NaN</td>\n",
       "      <td>NaN</td>\n",
       "      <td>NaN</td>\n",
       "      <td>...</td>\n",
       "      <td>NaN</td>\n",
       "      <td>Accommodation</td>\n",
       "      <td>NaN</td>\n",
       "      <td>NaN</td>\n",
       "      <td>NaN</td>\n",
       "      <td>NaN</td>\n",
       "      <td>NaN</td>\n",
       "      <td>144.948507</td>\n",
       "      <td>-37.795439</td>\n",
       "      <td>(-37.795439000000002, 144.94850700000001)</td>\n",
       "    </tr>\n",
       "    <tr>\n",
       "      <th>14</th>\n",
       "      <td>AL–ANON Family Groups</td>\n",
       "      <td>Support group for family and friends of alcoho...</td>\n",
       "      <td>NaN</td>\n",
       "      <td>Level 7, Suite 2</td>\n",
       "      <td>51 Queen Street</td>\n",
       "      <td>Melbourne</td>\n",
       "      <td>1300 252 666</td>\n",
       "      <td>NaN</td>\n",
       "      <td>NaN</td>\n",
       "      <td>alanonvsa@netspace.net.au</td>\n",
       "      <td>...</td>\n",
       "      <td>Flinders Street</td>\n",
       "      <td>Drug and Alcohol</td>\n",
       "      <td>NaN</td>\n",
       "      <td>NaN</td>\n",
       "      <td>NaN</td>\n",
       "      <td>NaN</td>\n",
       "      <td>NaN</td>\n",
       "      <td>144.961614</td>\n",
       "      <td>-37.817738</td>\n",
       "      <td>(-37.817737999999999, 144.961614)</td>\n",
       "    </tr>\n",
       "    <tr>\n",
       "      <th>15</th>\n",
       "      <td>Alcoholics Anonymous Victoria</td>\n",
       "      <td>AA is a fellowship of men and women who share ...</td>\n",
       "      <td>NaN</td>\n",
       "      <td>Level 1</td>\n",
       "      <td>36 Church Street</td>\n",
       "      <td>Richmond</td>\n",
       "      <td>9429 1833</td>\n",
       "      <td>NaN</td>\n",
       "      <td>NaN</td>\n",
       "      <td>NaN</td>\n",
       "      <td>...</td>\n",
       "      <td>NaN</td>\n",
       "      <td>Drug and Alcohol</td>\n",
       "      <td>NaN</td>\n",
       "      <td>NaN</td>\n",
       "      <td>NaN</td>\n",
       "      <td>NaN</td>\n",
       "      <td>NaN</td>\n",
       "      <td>145.000307</td>\n",
       "      <td>-37.811648</td>\n",
       "      <td>(-37.811647999999998, 145.00030699999999)</td>\n",
       "    </tr>\n",
       "  </tbody>\n",
       "</table>\n",
       "<p>5 rows × 34 columns</p>\n",
       "</div>"
      ],
      "text/plain": [
       "                                                 Name  \\\n",
       "11  Aboriginal Family Violence Prevention and Lega...   \n",
       "12                                      Action Centre   \n",
       "13                    Adult Outreach Support Services   \n",
       "14                              AL–ANON Family Groups   \n",
       "15                      Alcoholics Anonymous Victoria   \n",
       "\n",
       "                                                 What  \\\n",
       "11  Legal Services, Counselling Support, Informati...   \n",
       "12  contraception, sexuality and gender issues, pr...   \n",
       "13  Adult Outreach Support Services works with peo...   \n",
       "14  Support group for family and friends of alcoho...   \n",
       "15  AA is a fellowship of men and women who share ...   \n",
       "\n",
       "                                                  Who         Address 1  \\\n",
       "11                                                NaN           Level 3   \n",
       "12                Services are for under 25 year olds           Level 1   \n",
       "13  People who are homeless, or at risk of homeles...               NaN   \n",
       "14                                                NaN  Level 7, Suite 2   \n",
       "15                                                NaN           Level 1   \n",
       "\n",
       "                  Address 2           Suburb         Phone Phone 2  \\\n",
       "11  70-80 Wellington Street      Collingwood    9244 3333      NaN   \n",
       "12   92-94 Elizabeth Street        Melbourne     9660 4700     NaN   \n",
       "13      179 Flemington Road  North Melbourne     9329 5100     NaN   \n",
       "14          51 Queen Street        Melbourne  1300 252 666     NaN   \n",
       "15         36 Church Street         Richmond     9429 1833     NaN   \n",
       "\n",
       "       Free Call                      Email  ... Nearest train station  \\\n",
       "11  1800 105 303                        NaN  ...                   NaN   \n",
       "12  1800 013 952                        NaN  ...       Flinders Street   \n",
       "13           NaN                        NaN  ...                   NaN   \n",
       "14           NaN  alanonvsa@netspace.net.au  ...       Flinders Street   \n",
       "15           NaN                        NaN  ...                   NaN   \n",
       "\n",
       "                    Category 1                            Category 2  \\\n",
       "11    Legal / Financial Advice  Counselling and Psychiatric Services   \n",
       "12  Health Services / Pharmacy  Counselling and Psychiatric Services   \n",
       "13               Accommodation                                   NaN   \n",
       "14            Drug and Alcohol                                   NaN   \n",
       "15            Drug and Alcohol                                   NaN   \n",
       "\n",
       "   Category 3 Category 4 Category 5 Category 6   Longitude   Latitude  \\\n",
       "11        NaN        NaN        NaN        NaN  144.986299 -37.806427   \n",
       "12        NaN        NaN        NaN        NaN  144.964170 -37.815731   \n",
       "13        NaN        NaN        NaN        NaN  144.948507 -37.795439   \n",
       "14        NaN        NaN        NaN        NaN  144.961614 -37.817738   \n",
       "15        NaN        NaN        NaN        NaN  145.000307 -37.811648   \n",
       "\n",
       "                            Geocoded Location  \n",
       "11          (-37.806426999999999, 144.986299)  \n",
       "12                    (-37.815731, 144.96417)  \n",
       "13  (-37.795439000000002, 144.94850700000001)  \n",
       "14          (-37.817737999999999, 144.961614)  \n",
       "15  (-37.811647999999998, 145.00030699999999)  \n",
       "\n",
       "[5 rows x 34 columns]"
      ]
     },
     "execution_count": 5,
     "metadata": {},
     "output_type": "execute_result"
    }
   ],
   "source": [
    "df_encoded = df_support.loc[df_support['Geocoded Location'].notnull()]\n",
    "print(df_encoded.shape)\n",
    "df_encoded.head()"
   ]
  },
  {
   "cell_type": "code",
   "execution_count": 6,
   "id": "006d9a03-c888-4e3c-97df-85ac6e69bd53",
   "metadata": {},
   "outputs": [
    {
     "data": {
      "text/plain": [
       "'(-37.806426999999999, 144.986299)'"
      ]
     },
     "execution_count": 6,
     "metadata": {},
     "output_type": "execute_result"
    }
   ],
   "source": [
    "(df_encoded['Geocoded Location'].iloc[0])"
   ]
  },
  {
   "cell_type": "code",
   "execution_count": 7,
   "id": "69ad750c-266e-4d42-9e8e-d99baa3f7fc0",
   "metadata": {},
   "outputs": [],
   "source": [
    "def extract_lat_lon(s):\n",
    "    try:\n",
    "        lat, lon = ast.literal_eval(s)\n",
    "        return lat, lon\n",
    "    except Exception as e:\n",
    "        return None, None"
   ]
  },
  {
   "cell_type": "code",
   "execution_count": 8,
   "id": "a47de715-d99d-4eb3-972e-a9afa6b12d63",
   "metadata": {},
   "outputs": [
    {
     "name": "stderr",
     "output_type": "stream",
     "text": [
      "/var/folders/38/2llzcnj566q58c461dny1nh80000gn/T/ipykernel_28800/1781997431.py:1: SettingWithCopyWarning: \n",
      "A value is trying to be set on a copy of a slice from a DataFrame.\n",
      "Try using .loc[row_indexer,col_indexer] = value instead\n",
      "\n",
      "See the caveats in the documentation: https://pandas.pydata.org/pandas-docs/stable/user_guide/indexing.html#returning-a-view-versus-a-copy\n",
      "  df_encoded[['latitude', 'longitude']] = df_encoded['Geocoded Location'].apply(extract_lat_lon).apply(pd.Series)\n",
      "/var/folders/38/2llzcnj566q58c461dny1nh80000gn/T/ipykernel_28800/1781997431.py:1: SettingWithCopyWarning: \n",
      "A value is trying to be set on a copy of a slice from a DataFrame.\n",
      "Try using .loc[row_indexer,col_indexer] = value instead\n",
      "\n",
      "See the caveats in the documentation: https://pandas.pydata.org/pandas-docs/stable/user_guide/indexing.html#returning-a-view-versus-a-copy\n",
      "  df_encoded[['latitude', 'longitude']] = df_encoded['Geocoded Location'].apply(extract_lat_lon).apply(pd.Series)\n"
     ]
    }
   ],
   "source": [
    "df_encoded[['latitude', 'longitude']] = df_encoded['Geocoded Location'].apply(extract_lat_lon).apply(pd.Series)"
   ]
  },
  {
   "cell_type": "code",
   "execution_count": 9,
   "id": "3e51c95c-4157-4c2d-bb1f-298b8f2e41f3",
   "metadata": {},
   "outputs": [
    {
     "name": "stdout",
     "output_type": "stream",
     "text": [
      "(88, 36)\n"
     ]
    },
    {
     "data": {
      "text/html": [
       "<div>\n",
       "<style scoped>\n",
       "    .dataframe tbody tr th:only-of-type {\n",
       "        vertical-align: middle;\n",
       "    }\n",
       "\n",
       "    .dataframe tbody tr th {\n",
       "        vertical-align: top;\n",
       "    }\n",
       "\n",
       "    .dataframe thead th {\n",
       "        text-align: right;\n",
       "    }\n",
       "</style>\n",
       "<table border=\"1\" class=\"dataframe\">\n",
       "  <thead>\n",
       "    <tr style=\"text-align: right;\">\n",
       "      <th></th>\n",
       "      <th>Name</th>\n",
       "      <th>What</th>\n",
       "      <th>Who</th>\n",
       "      <th>Address 1</th>\n",
       "      <th>Address 2</th>\n",
       "      <th>Suburb</th>\n",
       "      <th>Phone</th>\n",
       "      <th>Phone 2</th>\n",
       "      <th>Free Call</th>\n",
       "      <th>Email</th>\n",
       "      <th>...</th>\n",
       "      <th>Category 2</th>\n",
       "      <th>Category 3</th>\n",
       "      <th>Category 4</th>\n",
       "      <th>Category 5</th>\n",
       "      <th>Category 6</th>\n",
       "      <th>Longitude</th>\n",
       "      <th>Latitude</th>\n",
       "      <th>Geocoded Location</th>\n",
       "      <th>latitude</th>\n",
       "      <th>longitude</th>\n",
       "    </tr>\n",
       "  </thead>\n",
       "  <tbody>\n",
       "    <tr>\n",
       "      <th>11</th>\n",
       "      <td>Aboriginal Family Violence Prevention and Lega...</td>\n",
       "      <td>Legal Services, Counselling Support, Informati...</td>\n",
       "      <td>NaN</td>\n",
       "      <td>Level 3</td>\n",
       "      <td>70-80 Wellington Street</td>\n",
       "      <td>Collingwood</td>\n",
       "      <td>9244 3333</td>\n",
       "      <td>NaN</td>\n",
       "      <td>1800 105 303</td>\n",
       "      <td>NaN</td>\n",
       "      <td>...</td>\n",
       "      <td>Counselling and Psychiatric Services</td>\n",
       "      <td>NaN</td>\n",
       "      <td>NaN</td>\n",
       "      <td>NaN</td>\n",
       "      <td>NaN</td>\n",
       "      <td>144.986299</td>\n",
       "      <td>-37.806427</td>\n",
       "      <td>(-37.806426999999999, 144.986299)</td>\n",
       "      <td>-37.806427</td>\n",
       "      <td>144.986299</td>\n",
       "    </tr>\n",
       "    <tr>\n",
       "      <th>12</th>\n",
       "      <td>Action Centre</td>\n",
       "      <td>contraception, sexuality and gender issues, pr...</td>\n",
       "      <td>Services are for under 25 year olds</td>\n",
       "      <td>Level 1</td>\n",
       "      <td>92-94 Elizabeth Street</td>\n",
       "      <td>Melbourne</td>\n",
       "      <td>9660 4700</td>\n",
       "      <td>NaN</td>\n",
       "      <td>1800 013 952</td>\n",
       "      <td>NaN</td>\n",
       "      <td>...</td>\n",
       "      <td>Counselling and Psychiatric Services</td>\n",
       "      <td>NaN</td>\n",
       "      <td>NaN</td>\n",
       "      <td>NaN</td>\n",
       "      <td>NaN</td>\n",
       "      <td>144.964170</td>\n",
       "      <td>-37.815731</td>\n",
       "      <td>(-37.815731, 144.96417)</td>\n",
       "      <td>-37.815731</td>\n",
       "      <td>144.964170</td>\n",
       "    </tr>\n",
       "    <tr>\n",
       "      <th>13</th>\n",
       "      <td>Adult Outreach Support Services</td>\n",
       "      <td>Adult Outreach Support Services works with peo...</td>\n",
       "      <td>People who are homeless, or at risk of homeles...</td>\n",
       "      <td>NaN</td>\n",
       "      <td>179 Flemington Road</td>\n",
       "      <td>North Melbourne</td>\n",
       "      <td>9329 5100</td>\n",
       "      <td>NaN</td>\n",
       "      <td>NaN</td>\n",
       "      <td>NaN</td>\n",
       "      <td>...</td>\n",
       "      <td>NaN</td>\n",
       "      <td>NaN</td>\n",
       "      <td>NaN</td>\n",
       "      <td>NaN</td>\n",
       "      <td>NaN</td>\n",
       "      <td>144.948507</td>\n",
       "      <td>-37.795439</td>\n",
       "      <td>(-37.795439000000002, 144.94850700000001)</td>\n",
       "      <td>-37.795439</td>\n",
       "      <td>144.948507</td>\n",
       "    </tr>\n",
       "    <tr>\n",
       "      <th>14</th>\n",
       "      <td>AL–ANON Family Groups</td>\n",
       "      <td>Support group for family and friends of alcoho...</td>\n",
       "      <td>NaN</td>\n",
       "      <td>Level 7, Suite 2</td>\n",
       "      <td>51 Queen Street</td>\n",
       "      <td>Melbourne</td>\n",
       "      <td>1300 252 666</td>\n",
       "      <td>NaN</td>\n",
       "      <td>NaN</td>\n",
       "      <td>alanonvsa@netspace.net.au</td>\n",
       "      <td>...</td>\n",
       "      <td>NaN</td>\n",
       "      <td>NaN</td>\n",
       "      <td>NaN</td>\n",
       "      <td>NaN</td>\n",
       "      <td>NaN</td>\n",
       "      <td>144.961614</td>\n",
       "      <td>-37.817738</td>\n",
       "      <td>(-37.817737999999999, 144.961614)</td>\n",
       "      <td>-37.817738</td>\n",
       "      <td>144.961614</td>\n",
       "    </tr>\n",
       "    <tr>\n",
       "      <th>15</th>\n",
       "      <td>Alcoholics Anonymous Victoria</td>\n",
       "      <td>AA is a fellowship of men and women who share ...</td>\n",
       "      <td>NaN</td>\n",
       "      <td>Level 1</td>\n",
       "      <td>36 Church Street</td>\n",
       "      <td>Richmond</td>\n",
       "      <td>9429 1833</td>\n",
       "      <td>NaN</td>\n",
       "      <td>NaN</td>\n",
       "      <td>NaN</td>\n",
       "      <td>...</td>\n",
       "      <td>NaN</td>\n",
       "      <td>NaN</td>\n",
       "      <td>NaN</td>\n",
       "      <td>NaN</td>\n",
       "      <td>NaN</td>\n",
       "      <td>145.000307</td>\n",
       "      <td>-37.811648</td>\n",
       "      <td>(-37.811647999999998, 145.00030699999999)</td>\n",
       "      <td>-37.811648</td>\n",
       "      <td>145.000307</td>\n",
       "    </tr>\n",
       "  </tbody>\n",
       "</table>\n",
       "<p>5 rows × 36 columns</p>\n",
       "</div>"
      ],
      "text/plain": [
       "                                                 Name  \\\n",
       "11  Aboriginal Family Violence Prevention and Lega...   \n",
       "12                                      Action Centre   \n",
       "13                    Adult Outreach Support Services   \n",
       "14                              AL–ANON Family Groups   \n",
       "15                      Alcoholics Anonymous Victoria   \n",
       "\n",
       "                                                 What  \\\n",
       "11  Legal Services, Counselling Support, Informati...   \n",
       "12  contraception, sexuality and gender issues, pr...   \n",
       "13  Adult Outreach Support Services works with peo...   \n",
       "14  Support group for family and friends of alcoho...   \n",
       "15  AA is a fellowship of men and women who share ...   \n",
       "\n",
       "                                                  Who         Address 1  \\\n",
       "11                                                NaN           Level 3   \n",
       "12                Services are for under 25 year olds           Level 1   \n",
       "13  People who are homeless, or at risk of homeles...               NaN   \n",
       "14                                                NaN  Level 7, Suite 2   \n",
       "15                                                NaN           Level 1   \n",
       "\n",
       "                  Address 2           Suburb         Phone Phone 2  \\\n",
       "11  70-80 Wellington Street      Collingwood    9244 3333      NaN   \n",
       "12   92-94 Elizabeth Street        Melbourne     9660 4700     NaN   \n",
       "13      179 Flemington Road  North Melbourne     9329 5100     NaN   \n",
       "14          51 Queen Street        Melbourne  1300 252 666     NaN   \n",
       "15         36 Church Street         Richmond     9429 1833     NaN   \n",
       "\n",
       "       Free Call                      Email  ...  \\\n",
       "11  1800 105 303                        NaN  ...   \n",
       "12  1800 013 952                        NaN  ...   \n",
       "13           NaN                        NaN  ...   \n",
       "14           NaN  alanonvsa@netspace.net.au  ...   \n",
       "15           NaN                        NaN  ...   \n",
       "\n",
       "                              Category 2 Category 3 Category 4 Category 5  \\\n",
       "11  Counselling and Psychiatric Services        NaN        NaN        NaN   \n",
       "12  Counselling and Psychiatric Services        NaN        NaN        NaN   \n",
       "13                                   NaN        NaN        NaN        NaN   \n",
       "14                                   NaN        NaN        NaN        NaN   \n",
       "15                                   NaN        NaN        NaN        NaN   \n",
       "\n",
       "   Category 6   Longitude   Latitude  \\\n",
       "11        NaN  144.986299 -37.806427   \n",
       "12        NaN  144.964170 -37.815731   \n",
       "13        NaN  144.948507 -37.795439   \n",
       "14        NaN  144.961614 -37.817738   \n",
       "15        NaN  145.000307 -37.811648   \n",
       "\n",
       "                            Geocoded Location   latitude   longitude  \n",
       "11          (-37.806426999999999, 144.986299) -37.806427  144.986299  \n",
       "12                    (-37.815731, 144.96417) -37.815731  144.964170  \n",
       "13  (-37.795439000000002, 144.94850700000001) -37.795439  144.948507  \n",
       "14          (-37.817737999999999, 144.961614) -37.817738  144.961614  \n",
       "15  (-37.811647999999998, 145.00030699999999) -37.811648  145.000307  \n",
       "\n",
       "[5 rows x 36 columns]"
      ]
     },
     "execution_count": 9,
     "metadata": {},
     "output_type": "execute_result"
    }
   ],
   "source": [
    "print(df_encoded.shape)\n",
    "df_encoded.head()"
   ]
  },
  {
   "cell_type": "code",
   "execution_count": 10,
   "id": "b283ea3b-1997-472e-8b9b-2902d71c0273",
   "metadata": {},
   "outputs": [],
   "source": [
    "px.set_mapbox_access_token(\"Your token\")"
   ]
  },
  {
   "cell_type": "code",
   "execution_count": 17,
   "id": "a4c2eaac-9910-4216-a282-cd15c528b4ba",
   "metadata": {},
   "outputs": [
    {
     "data": {
      "application/vnd.plotly.v1+json": {
       "config": {
        "plotlyServerURL": "https://plot.ly"
       },
       "data": [
        {
         "hovertemplate": "Name=%{text}<br>latitude=%{lat}<br>longitude=%{lon}<extra></extra>",
         "lat": [
          -37.806427,
          -37.815731,
          -37.795439,
          -37.817738,
          -37.811648,
          -37.798877,
          -37.80991,
          -37.801611,
          -37.804544,
          -37.805286,
          -37.810904,
          -37.806595,
          -37.806518,
          -37.830941,
          -37.795941,
          -37.810921,
          -37.795025,
          -37.806518,
          -37.805149,
          -37.798881,
          -37.791715,
          -37.799008,
          -37.807402,
          -37.798629,
          -37.806306,
          -37.789148,
          -37.819928,
          -37.886526,
          -37.804578,
          -37.827398,
          -37.848051,
          -37.804759,
          -37.801915,
          -37.803069,
          -37.835111,
          -37.799989,
          -37.816297,
          -37.795588,
          -37.807263,
          -37.812515,
          -37.803078,
          -37.808663,
          -37.779449,
          -37.800795,
          -37.795439,
          -37.787084,
          -37.808981,
          -37.808784,
          -37.863011,
          -37.863676,
          -37.86329,
          -37.812515,
          -37.812515,
          -37.812515,
          -37.817291,
          -37.812515,
          -37.790064,
          -37.78706,
          -37.811735,
          -37.802492,
          -37.799683,
          -37.807773,
          -37.845804,
          -37.810394,
          -37.804233,
          -37.818367,
          -37.818367,
          -37.817562,
          -37.805875,
          -37.821835,
          -37.816607,
          -37.800099,
          -37.799401,
          -37.743764,
          -37.810407,
          -37.705865,
          -37.766379,
          -37.781062,
          -37.783046,
          -37.811651,
          -37.799549,
          -37.799368,
          -37.825934,
          -37.819928,
          -37.80726,
          -37.793167,
          -37.860682,
          -37.798124
         ],
         "legendgroup": "",
         "lon": [
          144.986299,
          144.96417,
          144.948507,
          144.961614,
          145.000307,
          144.956177,
          144.975486,
          144.981835,
          144.97996,
          144.977265,
          144.965833,
          144.976675,
          144.961214,
          144.958914,
          144.968642,
          144.988927,
          144.929074,
          144.961214,
          144.97697,
          144.992598,
          144.968594,
          144.984854,
          144.976911,
          144.979089,
          144.949896,
          144.928727,
          144.957305,
          145.019061,
          144.982736,
          144.956268,
          144.954037,
          144.984797,
          144.984278,
          144.950404,
          144.969079,
          144.896575,
          144.969029,
          144.949629,
          144.980758,
          144.971628,
          144.963837,
          144.947177,
          144.948571,
          144.946225,
          144.948507,
          144.93081,
          144.950825,
          144.976219,
          144.979787,
          144.980237,
          144.980726,
          144.971628,
          144.971628,
          144.971628,
          144.967553,
          144.971628,
          144.939884,
          144.935707,
          144.962472,
          144.97746,
          144.988812,
          144.97496,
          144.986044,
          144.968044,
          144.967936,
          144.953506,
          144.953506,
          144.967392,
          144.975997,
          144.952925,
          144.9665,
          144.954611,
          144.975193,
          145.002669,
          144.958897,
          144.91966,
          144.924389,
          144.999486,
          144.935449,
          144.951155,
          144.955127,
          144.893595,
          144.991248,
          144.957305,
          144.992751,
          144.940243,
          144.977933,
          144.976668
         ],
         "marker": {
          "color": "#636efa"
         },
         "mode": "markers+text",
         "name": "",
         "showlegend": false,
         "subplot": "mapbox",
         "text": [
          "Aboriginal Family Violence Prevention and Legal Service Victoria",
          "Action Centre",
          "Adult Outreach Support Services",
          "AL–ANON Family Groups",
          "Alcoholics Anonymous Victoria",
          "Royal Melbourne Hospital",
          "Anglicare Victoria – Lazarus Centre",
          "Anglicare Victoria – St.Mark’s Community Centre",
          "Anglicare Victoria – Mission House",
          "Brotherhood of St Laurence Coolibah Centre",
          "CASA House Centre Against Sexual Assault",
          "CatholicCare/St Mary of the Cross Centre",
          "Central City Community Health Service",
          "Centrelink",
          "Church of All Nations",
          "Clarendon Clinic",
          "COHEALTH",
          "COHEALTH",
          "COHEALTH",
          "COHEALTH",
          "COHEALTH",
          "COHEALTH - Inner Space",
          "Depaul House",
          "Fitzroy Legal Service",
          "Flagstaff Crisis Accommodation",
          "Flemington & Kensington Community Legal Centre",
          "Frontyard Youth Services",
          "GROW",
          "Hanover Fitzroy",
          "Hanover Southbank",
          "Hare Krishna Temple",
          "HomeGround Services",
          "Homelessness Advocacy Service (HAS) – Council to Homeless Persons",
          "Inner Melbourne Community Legal ",
          "Inner Melbourne VET Cluster (IMVC)",
          "Justice Connect Homeless Law",
          "Living Room Primary Health Service",
          "McAuley Community Services for Women - McAuley House Program",
          "Quin House",
          "Melbourne Counselling Service",
          "Melbourne Sexual Health Centre",
          "Open Family Australia",
          "Orygen Youth Health",
          "Ozanam Community Centre",
          "Ozanam House",
          "Presbyterian and Scots’ Church Joint Mission (The Flemington Mission)",
          "RDNS Homeless Person’s Program",
          "Royal Victorian Eye & Ear Hospital",
          "Sacred Heart Mission",
          "Sacred Heart Mission’s Women’s House",
          "Sacred Heart Mission’s Clinic",
          "Salvation Army – Project 614",
          "Hamodava Café",
          "The Market Place",
          "614/AMP Youth Bus",
          "The Couch International Student Centre",
          "Salvation Army Open Door",
          "Settlement Program",
          "St. Francis Pastoral Centre",
          "St. Mary’s House of Welcome",
          "St. Vincent’s de Paul",
          "St. Vincent’s Emergency Department",
          "The Alfred",
          "The Big Issue Australia",
          "The Drum Youth Services",
          "TRAVELLERS AID - Spencer Street",
          "Travel-related Emergency Relief (Southern Cross Station)",
          "TRAVELLERS AID - Flinders Street",
          "Turning Point Drug & Alcohol Centre",
          "Victoria Police - Melbourne West",
          "Victoria Police - Melbourne East",
          "Victoria Police - Melbourne North",
          "Victorian Aboriginal Health Service",
          "Victorian Aboriginal Legal Service",
          "Victorian Legal Aid",
          "VincentCare Youth Support Service",
          "Waratah Clinic",
          "William T Onus Hostel",
          "Wintringham",
          "WIRE (Women’s Information and Referral Exchange)",
          "Women’s Health Information Centre (WHIC)",
          "Women's Health West",
          "Women’s Housing Limited",
          "Young People’s Health Service",
          "Youth Support & Advocacy Service",
          "Youth Services",
          "Salvation Army - Crisis Services - Crisis Contact Centre",
          "Tenants Union of Victoria"
         ],
         "type": "scattermapbox"
        }
       ],
       "layout": {
        "height": 1000,
        "legend": {
         "tracegroupgap": 0
        },
        "mapbox": {
         "accesstoken": "pk.eyJ1IjoibmFuYXdhcmV0IiwiYSI6ImNqZnlkOHpwaTVvcjgzMHBvdW55c2lzcHIifQ.PiO1zMvZi1UHjwXl5FcIbg",
         "bearing": 0,
         "center": {
          "lat": -37.82262047233947,
          "lon": 144.96071520313728
         },
         "domain": {
          "x": [
           0,
           1
          ],
          "y": [
           0,
           1
          ]
         },
         "pitch": 0,
         "zoom": 12.33249723696909
        },
        "margin": {
         "t": 60
        },
        "template": {
         "data": {
          "bar": [
           {
            "error_x": {
             "color": "#2a3f5f"
            },
            "error_y": {
             "color": "#2a3f5f"
            },
            "marker": {
             "line": {
              "color": "#E5ECF6",
              "width": 0.5
             },
             "pattern": {
              "fillmode": "overlay",
              "size": 10,
              "solidity": 0.2
             }
            },
            "type": "bar"
           }
          ],
          "barpolar": [
           {
            "marker": {
             "line": {
              "color": "#E5ECF6",
              "width": 0.5
             },
             "pattern": {
              "fillmode": "overlay",
              "size": 10,
              "solidity": 0.2
             }
            },
            "type": "barpolar"
           }
          ],
          "carpet": [
           {
            "aaxis": {
             "endlinecolor": "#2a3f5f",
             "gridcolor": "white",
             "linecolor": "white",
             "minorgridcolor": "white",
             "startlinecolor": "#2a3f5f"
            },
            "baxis": {
             "endlinecolor": "#2a3f5f",
             "gridcolor": "white",
             "linecolor": "white",
             "minorgridcolor": "white",
             "startlinecolor": "#2a3f5f"
            },
            "type": "carpet"
           }
          ],
          "choropleth": [
           {
            "colorbar": {
             "outlinewidth": 0,
             "ticks": ""
            },
            "type": "choropleth"
           }
          ],
          "contour": [
           {
            "colorbar": {
             "outlinewidth": 0,
             "ticks": ""
            },
            "colorscale": [
             [
              0,
              "#0d0887"
             ],
             [
              0.1111111111111111,
              "#46039f"
             ],
             [
              0.2222222222222222,
              "#7201a8"
             ],
             [
              0.3333333333333333,
              "#9c179e"
             ],
             [
              0.4444444444444444,
              "#bd3786"
             ],
             [
              0.5555555555555556,
              "#d8576b"
             ],
             [
              0.6666666666666666,
              "#ed7953"
             ],
             [
              0.7777777777777778,
              "#fb9f3a"
             ],
             [
              0.8888888888888888,
              "#fdca26"
             ],
             [
              1,
              "#f0f921"
             ]
            ],
            "type": "contour"
           }
          ],
          "contourcarpet": [
           {
            "colorbar": {
             "outlinewidth": 0,
             "ticks": ""
            },
            "type": "contourcarpet"
           }
          ],
          "heatmap": [
           {
            "colorbar": {
             "outlinewidth": 0,
             "ticks": ""
            },
            "colorscale": [
             [
              0,
              "#0d0887"
             ],
             [
              0.1111111111111111,
              "#46039f"
             ],
             [
              0.2222222222222222,
              "#7201a8"
             ],
             [
              0.3333333333333333,
              "#9c179e"
             ],
             [
              0.4444444444444444,
              "#bd3786"
             ],
             [
              0.5555555555555556,
              "#d8576b"
             ],
             [
              0.6666666666666666,
              "#ed7953"
             ],
             [
              0.7777777777777778,
              "#fb9f3a"
             ],
             [
              0.8888888888888888,
              "#fdca26"
             ],
             [
              1,
              "#f0f921"
             ]
            ],
            "type": "heatmap"
           }
          ],
          "heatmapgl": [
           {
            "colorbar": {
             "outlinewidth": 0,
             "ticks": ""
            },
            "colorscale": [
             [
              0,
              "#0d0887"
             ],
             [
              0.1111111111111111,
              "#46039f"
             ],
             [
              0.2222222222222222,
              "#7201a8"
             ],
             [
              0.3333333333333333,
              "#9c179e"
             ],
             [
              0.4444444444444444,
              "#bd3786"
             ],
             [
              0.5555555555555556,
              "#d8576b"
             ],
             [
              0.6666666666666666,
              "#ed7953"
             ],
             [
              0.7777777777777778,
              "#fb9f3a"
             ],
             [
              0.8888888888888888,
              "#fdca26"
             ],
             [
              1,
              "#f0f921"
             ]
            ],
            "type": "heatmapgl"
           }
          ],
          "histogram": [
           {
            "marker": {
             "pattern": {
              "fillmode": "overlay",
              "size": 10,
              "solidity": 0.2
             }
            },
            "type": "histogram"
           }
          ],
          "histogram2d": [
           {
            "colorbar": {
             "outlinewidth": 0,
             "ticks": ""
            },
            "colorscale": [
             [
              0,
              "#0d0887"
             ],
             [
              0.1111111111111111,
              "#46039f"
             ],
             [
              0.2222222222222222,
              "#7201a8"
             ],
             [
              0.3333333333333333,
              "#9c179e"
             ],
             [
              0.4444444444444444,
              "#bd3786"
             ],
             [
              0.5555555555555556,
              "#d8576b"
             ],
             [
              0.6666666666666666,
              "#ed7953"
             ],
             [
              0.7777777777777778,
              "#fb9f3a"
             ],
             [
              0.8888888888888888,
              "#fdca26"
             ],
             [
              1,
              "#f0f921"
             ]
            ],
            "type": "histogram2d"
           }
          ],
          "histogram2dcontour": [
           {
            "colorbar": {
             "outlinewidth": 0,
             "ticks": ""
            },
            "colorscale": [
             [
              0,
              "#0d0887"
             ],
             [
              0.1111111111111111,
              "#46039f"
             ],
             [
              0.2222222222222222,
              "#7201a8"
             ],
             [
              0.3333333333333333,
              "#9c179e"
             ],
             [
              0.4444444444444444,
              "#bd3786"
             ],
             [
              0.5555555555555556,
              "#d8576b"
             ],
             [
              0.6666666666666666,
              "#ed7953"
             ],
             [
              0.7777777777777778,
              "#fb9f3a"
             ],
             [
              0.8888888888888888,
              "#fdca26"
             ],
             [
              1,
              "#f0f921"
             ]
            ],
            "type": "histogram2dcontour"
           }
          ],
          "mesh3d": [
           {
            "colorbar": {
             "outlinewidth": 0,
             "ticks": ""
            },
            "type": "mesh3d"
           }
          ],
          "parcoords": [
           {
            "line": {
             "colorbar": {
              "outlinewidth": 0,
              "ticks": ""
             }
            },
            "type": "parcoords"
           }
          ],
          "pie": [
           {
            "automargin": true,
            "type": "pie"
           }
          ],
          "scatter": [
           {
            "fillpattern": {
             "fillmode": "overlay",
             "size": 10,
             "solidity": 0.2
            },
            "type": "scatter"
           }
          ],
          "scatter3d": [
           {
            "line": {
             "colorbar": {
              "outlinewidth": 0,
              "ticks": ""
             }
            },
            "marker": {
             "colorbar": {
              "outlinewidth": 0,
              "ticks": ""
             }
            },
            "type": "scatter3d"
           }
          ],
          "scattercarpet": [
           {
            "marker": {
             "colorbar": {
              "outlinewidth": 0,
              "ticks": ""
             }
            },
            "type": "scattercarpet"
           }
          ],
          "scattergeo": [
           {
            "marker": {
             "colorbar": {
              "outlinewidth": 0,
              "ticks": ""
             }
            },
            "type": "scattergeo"
           }
          ],
          "scattergl": [
           {
            "marker": {
             "colorbar": {
              "outlinewidth": 0,
              "ticks": ""
             }
            },
            "type": "scattergl"
           }
          ],
          "scattermapbox": [
           {
            "marker": {
             "colorbar": {
              "outlinewidth": 0,
              "ticks": ""
             }
            },
            "type": "scattermapbox"
           }
          ],
          "scatterpolar": [
           {
            "marker": {
             "colorbar": {
              "outlinewidth": 0,
              "ticks": ""
             }
            },
            "type": "scatterpolar"
           }
          ],
          "scatterpolargl": [
           {
            "marker": {
             "colorbar": {
              "outlinewidth": 0,
              "ticks": ""
             }
            },
            "type": "scatterpolargl"
           }
          ],
          "scatterternary": [
           {
            "marker": {
             "colorbar": {
              "outlinewidth": 0,
              "ticks": ""
             }
            },
            "type": "scatterternary"
           }
          ],
          "surface": [
           {
            "colorbar": {
             "outlinewidth": 0,
             "ticks": ""
            },
            "colorscale": [
             [
              0,
              "#0d0887"
             ],
             [
              0.1111111111111111,
              "#46039f"
             ],
             [
              0.2222222222222222,
              "#7201a8"
             ],
             [
              0.3333333333333333,
              "#9c179e"
             ],
             [
              0.4444444444444444,
              "#bd3786"
             ],
             [
              0.5555555555555556,
              "#d8576b"
             ],
             [
              0.6666666666666666,
              "#ed7953"
             ],
             [
              0.7777777777777778,
              "#fb9f3a"
             ],
             [
              0.8888888888888888,
              "#fdca26"
             ],
             [
              1,
              "#f0f921"
             ]
            ],
            "type": "surface"
           }
          ],
          "table": [
           {
            "cells": {
             "fill": {
              "color": "#EBF0F8"
             },
             "line": {
              "color": "white"
             }
            },
            "header": {
             "fill": {
              "color": "#C8D4E3"
             },
             "line": {
              "color": "white"
             }
            },
            "type": "table"
           }
          ]
         },
         "layout": {
          "annotationdefaults": {
           "arrowcolor": "#2a3f5f",
           "arrowhead": 0,
           "arrowwidth": 1
          },
          "autotypenumbers": "strict",
          "coloraxis": {
           "colorbar": {
            "outlinewidth": 0,
            "ticks": ""
           }
          },
          "colorscale": {
           "diverging": [
            [
             0,
             "#8e0152"
            ],
            [
             0.1,
             "#c51b7d"
            ],
            [
             0.2,
             "#de77ae"
            ],
            [
             0.3,
             "#f1b6da"
            ],
            [
             0.4,
             "#fde0ef"
            ],
            [
             0.5,
             "#f7f7f7"
            ],
            [
             0.6,
             "#e6f5d0"
            ],
            [
             0.7,
             "#b8e186"
            ],
            [
             0.8,
             "#7fbc41"
            ],
            [
             0.9,
             "#4d9221"
            ],
            [
             1,
             "#276419"
            ]
           ],
           "sequential": [
            [
             0,
             "#0d0887"
            ],
            [
             0.1111111111111111,
             "#46039f"
            ],
            [
             0.2222222222222222,
             "#7201a8"
            ],
            [
             0.3333333333333333,
             "#9c179e"
            ],
            [
             0.4444444444444444,
             "#bd3786"
            ],
            [
             0.5555555555555556,
             "#d8576b"
            ],
            [
             0.6666666666666666,
             "#ed7953"
            ],
            [
             0.7777777777777778,
             "#fb9f3a"
            ],
            [
             0.8888888888888888,
             "#fdca26"
            ],
            [
             1,
             "#f0f921"
            ]
           ],
           "sequentialminus": [
            [
             0,
             "#0d0887"
            ],
            [
             0.1111111111111111,
             "#46039f"
            ],
            [
             0.2222222222222222,
             "#7201a8"
            ],
            [
             0.3333333333333333,
             "#9c179e"
            ],
            [
             0.4444444444444444,
             "#bd3786"
            ],
            [
             0.5555555555555556,
             "#d8576b"
            ],
            [
             0.6666666666666666,
             "#ed7953"
            ],
            [
             0.7777777777777778,
             "#fb9f3a"
            ],
            [
             0.8888888888888888,
             "#fdca26"
            ],
            [
             1,
             "#f0f921"
            ]
           ]
          },
          "colorway": [
           "#636efa",
           "#EF553B",
           "#00cc96",
           "#ab63fa",
           "#FFA15A",
           "#19d3f3",
           "#FF6692",
           "#B6E880",
           "#FF97FF",
           "#FECB52"
          ],
          "font": {
           "color": "#2a3f5f"
          },
          "geo": {
           "bgcolor": "white",
           "lakecolor": "white",
           "landcolor": "#E5ECF6",
           "showlakes": true,
           "showland": true,
           "subunitcolor": "white"
          },
          "hoverlabel": {
           "align": "left"
          },
          "hovermode": "closest",
          "mapbox": {
           "style": "light"
          },
          "paper_bgcolor": "white",
          "plot_bgcolor": "#E5ECF6",
          "polar": {
           "angularaxis": {
            "gridcolor": "white",
            "linecolor": "white",
            "ticks": ""
           },
           "bgcolor": "#E5ECF6",
           "radialaxis": {
            "gridcolor": "white",
            "linecolor": "white",
            "ticks": ""
           }
          },
          "scene": {
           "xaxis": {
            "backgroundcolor": "#E5ECF6",
            "gridcolor": "white",
            "gridwidth": 2,
            "linecolor": "white",
            "showbackground": true,
            "ticks": "",
            "zerolinecolor": "white"
           },
           "yaxis": {
            "backgroundcolor": "#E5ECF6",
            "gridcolor": "white",
            "gridwidth": 2,
            "linecolor": "white",
            "showbackground": true,
            "ticks": "",
            "zerolinecolor": "white"
           },
           "zaxis": {
            "backgroundcolor": "#E5ECF6",
            "gridcolor": "white",
            "gridwidth": 2,
            "linecolor": "white",
            "showbackground": true,
            "ticks": "",
            "zerolinecolor": "white"
           }
          },
          "shapedefaults": {
           "line": {
            "color": "#2a3f5f"
           }
          },
          "ternary": {
           "aaxis": {
            "gridcolor": "white",
            "linecolor": "white",
            "ticks": ""
           },
           "baxis": {
            "gridcolor": "white",
            "linecolor": "white",
            "ticks": ""
           },
           "bgcolor": "#E5ECF6",
           "caxis": {
            "gridcolor": "white",
            "linecolor": "white",
            "ticks": ""
           }
          },
          "title": {
           "x": 0.05
          },
          "xaxis": {
           "automargin": true,
           "gridcolor": "white",
           "linecolor": "white",
           "ticks": "",
           "title": {
            "standoff": 15
           },
           "zerolinecolor": "white",
           "zerolinewidth": 2
          },
          "yaxis": {
           "automargin": true,
           "gridcolor": "white",
           "linecolor": "white",
           "ticks": "",
           "title": {
            "standoff": 15
           },
           "zerolinecolor": "white",
           "zerolinewidth": 2
          }
         }
        },
        "width": 900
       }
      },
      "text/html": [
       "<div>                            <div id=\"ae5cf90a-7a2b-42a5-8c83-9f221cff3581\" class=\"plotly-graph-div\" style=\"height:1000px; width:900px;\"></div>            <script type=\"text/javascript\">                require([\"plotly\"], function(Plotly) {                    window.PLOTLYENV=window.PLOTLYENV || {};                                    if (document.getElementById(\"ae5cf90a-7a2b-42a5-8c83-9f221cff3581\")) {                    Plotly.newPlot(                        \"ae5cf90a-7a2b-42a5-8c83-9f221cff3581\",                        [{\"hovertemplate\":\"Name=%{text}\\u003cbr\\u003elatitude=%{lat}\\u003cbr\\u003elongitude=%{lon}\\u003cextra\\u003e\\u003c\\u002fextra\\u003e\",\"lat\":[-37.806427,-37.815731,-37.795439,-37.817738,-37.811648,-37.798877,-37.80991,-37.801611,-37.804544,-37.805286,-37.810904,-37.806595,-37.806518,-37.830941,-37.795941,-37.810921,-37.795025,-37.806518,-37.805149,-37.798881,-37.791715,-37.799008,-37.807402,-37.798629,-37.806306,-37.789148,-37.819928,-37.886526,-37.804578,-37.827398,-37.848051,-37.804759,-37.801915,-37.803069,-37.835111,-37.799989,-37.816297,-37.795588,-37.807263,-37.812515,-37.803078,-37.808663,-37.779449,-37.800795,-37.795439,-37.787084,-37.808981,-37.808784,-37.863011,-37.863676,-37.86329,-37.812515,-37.812515,-37.812515,-37.817291,-37.812515,-37.790064,-37.78706,-37.811735,-37.802492,-37.799683,-37.807773,-37.845804,-37.810394,-37.804233,-37.818367,-37.818367,-37.817562,-37.805875,-37.821835,-37.816607,-37.800099,-37.799401,-37.743764,-37.810407,-37.705865,-37.766379,-37.781062,-37.783046,-37.811651,-37.799549,-37.799368,-37.825934,-37.819928,-37.80726,-37.793167,-37.860682,-37.798124],\"legendgroup\":\"\",\"lon\":[144.986299,144.96417,144.948507,144.961614,145.000307,144.956177,144.975486,144.981835,144.97996,144.977265,144.965833,144.976675,144.961214,144.958914,144.968642,144.988927,144.929074,144.961214,144.97697,144.992598,144.968594,144.984854,144.976911,144.979089,144.949896,144.928727,144.957305,145.019061,144.982736,144.956268,144.954037,144.984797,144.984278,144.950404,144.969079,144.896575,144.969029,144.949629,144.980758,144.971628,144.963837,144.947177,144.948571,144.946225,144.948507,144.93081,144.950825,144.976219,144.979787,144.980237,144.980726,144.971628,144.971628,144.971628,144.967553,144.971628,144.939884,144.935707,144.962472,144.97746,144.988812,144.97496,144.986044,144.968044,144.967936,144.953506,144.953506,144.967392,144.975997,144.952925,144.9665,144.954611,144.975193,145.002669,144.958897,144.91966,144.924389,144.999486,144.935449,144.951155,144.955127,144.893595,144.991248,144.957305,144.992751,144.940243,144.977933,144.976668],\"marker\":{\"color\":\"#636efa\"},\"mode\":\"markers+text\",\"name\":\"\",\"showlegend\":false,\"subplot\":\"mapbox\",\"text\":[\"Aboriginal Family Violence Prevention and Legal Service Victoria\",\"Action Centre\",\"Adult Outreach Support Services\",\"AL\\u2013ANON Family Groups\",\"Alcoholics Anonymous Victoria\",\"Royal Melbourne Hospital\",\"Anglicare Victoria \\u2013 Lazarus Centre\",\"Anglicare Victoria \\u2013 St.Mark\\u2019s Community Centre\",\"Anglicare Victoria \\u2013 Mission House\",\"Brotherhood of St Laurence Coolibah Centre\",\"CASA House Centre Against Sexual Assault\",\"CatholicCare\\u002fSt Mary of the Cross Centre\",\"Central City Community Health Service\",\"Centrelink\",\"Church of All Nations\",\"Clarendon Clinic\",\"COHEALTH\",\"COHEALTH\",\"COHEALTH\",\"COHEALTH\",\"COHEALTH\",\"COHEALTH - Inner Space\",\"Depaul House\",\"Fitzroy Legal Service\",\"Flagstaff Crisis Accommodation\",\"Flemington & Kensington Community Legal Centre\",\"Frontyard Youth Services\",\"GROW\",\"Hanover Fitzroy\",\"Hanover Southbank\",\"Hare Krishna Temple\",\"HomeGround Services\",\"Homelessness Advocacy Service (HAS) \\u2013 Council to Homeless Persons\",\"Inner Melbourne Community Legal \",\"Inner Melbourne VET Cluster (IMVC)\",\"Justice Connect Homeless Law\",\"Living Room Primary Health Service\",\"McAuley Community Services for Women - McAuley House Program\",\"Quin House\",\"Melbourne Counselling Service\",\"Melbourne Sexual Health Centre\",\"Open Family Australia\",\"Orygen Youth Health\",\"Ozanam Community Centre\",\"Ozanam House\",\"Presbyterian and Scots\\u2019 Church Joint Mission (The Flemington Mission)\",\"RDNS Homeless Person\\u2019s Program\",\"Royal Victorian Eye & Ear Hospital\",\"Sacred Heart Mission\",\"Sacred Heart Mission\\u2019s Women\\u2019s House\",\"Sacred Heart Mission\\u2019s Clinic\",\"Salvation Army \\u2013 Project 614\",\"Hamodava Caf\\u00e9\",\"The Market Place\",\"614\\u002fAMP Youth Bus\",\"The Couch International Student Centre\",\"Salvation Army Open Door\",\"Settlement Program\",\"St. Francis Pastoral Centre\",\"St. Mary\\u2019s House of Welcome\",\"St. Vincent\\u2019s de Paul\",\"St. Vincent\\u2019s Emergency Department\",\"The Alfred\",\"The Big Issue Australia\",\"The Drum Youth Services\",\"TRAVELLERS AID - Spencer Street\",\"Travel-related Emergency Relief (Southern Cross Station)\",\"TRAVELLERS AID - Flinders Street\",\"Turning Point Drug & Alcohol Centre\",\"Victoria Police - Melbourne West\",\"Victoria Police - Melbourne East\",\"Victoria Police - Melbourne North\",\"Victorian Aboriginal Health Service\",\"Victorian Aboriginal Legal Service\",\"Victorian Legal Aid\",\"VincentCare Youth Support Service\",\"Waratah Clinic\",\"William T Onus Hostel\",\"Wintringham\",\"WIRE (Women\\u2019s Information and Referral Exchange)\",\"Women\\u2019s Health Information Centre (WHIC)\",\"Women's Health West\",\"Women\\u2019s Housing Limited\",\"Young People\\u2019s Health Service\",\"Youth Support & Advocacy Service\",\"Youth Services\",\"Salvation Army - Crisis Services - Crisis Contact Centre\",\"Tenants Union of Victoria\"],\"type\":\"scattermapbox\"}],                        {\"template\":{\"data\":{\"histogram2dcontour\":[{\"type\":\"histogram2dcontour\",\"colorbar\":{\"outlinewidth\":0,\"ticks\":\"\"},\"colorscale\":[[0.0,\"#0d0887\"],[0.1111111111111111,\"#46039f\"],[0.2222222222222222,\"#7201a8\"],[0.3333333333333333,\"#9c179e\"],[0.4444444444444444,\"#bd3786\"],[0.5555555555555556,\"#d8576b\"],[0.6666666666666666,\"#ed7953\"],[0.7777777777777778,\"#fb9f3a\"],[0.8888888888888888,\"#fdca26\"],[1.0,\"#f0f921\"]]}],\"choropleth\":[{\"type\":\"choropleth\",\"colorbar\":{\"outlinewidth\":0,\"ticks\":\"\"}}],\"histogram2d\":[{\"type\":\"histogram2d\",\"colorbar\":{\"outlinewidth\":0,\"ticks\":\"\"},\"colorscale\":[[0.0,\"#0d0887\"],[0.1111111111111111,\"#46039f\"],[0.2222222222222222,\"#7201a8\"],[0.3333333333333333,\"#9c179e\"],[0.4444444444444444,\"#bd3786\"],[0.5555555555555556,\"#d8576b\"],[0.6666666666666666,\"#ed7953\"],[0.7777777777777778,\"#fb9f3a\"],[0.8888888888888888,\"#fdca26\"],[1.0,\"#f0f921\"]]}],\"heatmap\":[{\"type\":\"heatmap\",\"colorbar\":{\"outlinewidth\":0,\"ticks\":\"\"},\"colorscale\":[[0.0,\"#0d0887\"],[0.1111111111111111,\"#46039f\"],[0.2222222222222222,\"#7201a8\"],[0.3333333333333333,\"#9c179e\"],[0.4444444444444444,\"#bd3786\"],[0.5555555555555556,\"#d8576b\"],[0.6666666666666666,\"#ed7953\"],[0.7777777777777778,\"#fb9f3a\"],[0.8888888888888888,\"#fdca26\"],[1.0,\"#f0f921\"]]}],\"heatmapgl\":[{\"type\":\"heatmapgl\",\"colorbar\":{\"outlinewidth\":0,\"ticks\":\"\"},\"colorscale\":[[0.0,\"#0d0887\"],[0.1111111111111111,\"#46039f\"],[0.2222222222222222,\"#7201a8\"],[0.3333333333333333,\"#9c179e\"],[0.4444444444444444,\"#bd3786\"],[0.5555555555555556,\"#d8576b\"],[0.6666666666666666,\"#ed7953\"],[0.7777777777777778,\"#fb9f3a\"],[0.8888888888888888,\"#fdca26\"],[1.0,\"#f0f921\"]]}],\"contourcarpet\":[{\"type\":\"contourcarpet\",\"colorbar\":{\"outlinewidth\":0,\"ticks\":\"\"}}],\"contour\":[{\"type\":\"contour\",\"colorbar\":{\"outlinewidth\":0,\"ticks\":\"\"},\"colorscale\":[[0.0,\"#0d0887\"],[0.1111111111111111,\"#46039f\"],[0.2222222222222222,\"#7201a8\"],[0.3333333333333333,\"#9c179e\"],[0.4444444444444444,\"#bd3786\"],[0.5555555555555556,\"#d8576b\"],[0.6666666666666666,\"#ed7953\"],[0.7777777777777778,\"#fb9f3a\"],[0.8888888888888888,\"#fdca26\"],[1.0,\"#f0f921\"]]}],\"surface\":[{\"type\":\"surface\",\"colorbar\":{\"outlinewidth\":0,\"ticks\":\"\"},\"colorscale\":[[0.0,\"#0d0887\"],[0.1111111111111111,\"#46039f\"],[0.2222222222222222,\"#7201a8\"],[0.3333333333333333,\"#9c179e\"],[0.4444444444444444,\"#bd3786\"],[0.5555555555555556,\"#d8576b\"],[0.6666666666666666,\"#ed7953\"],[0.7777777777777778,\"#fb9f3a\"],[0.8888888888888888,\"#fdca26\"],[1.0,\"#f0f921\"]]}],\"mesh3d\":[{\"type\":\"mesh3d\",\"colorbar\":{\"outlinewidth\":0,\"ticks\":\"\"}}],\"scatter\":[{\"fillpattern\":{\"fillmode\":\"overlay\",\"size\":10,\"solidity\":0.2},\"type\":\"scatter\"}],\"parcoords\":[{\"type\":\"parcoords\",\"line\":{\"colorbar\":{\"outlinewidth\":0,\"ticks\":\"\"}}}],\"scatterpolargl\":[{\"type\":\"scatterpolargl\",\"marker\":{\"colorbar\":{\"outlinewidth\":0,\"ticks\":\"\"}}}],\"bar\":[{\"error_x\":{\"color\":\"#2a3f5f\"},\"error_y\":{\"color\":\"#2a3f5f\"},\"marker\":{\"line\":{\"color\":\"#E5ECF6\",\"width\":0.5},\"pattern\":{\"fillmode\":\"overlay\",\"size\":10,\"solidity\":0.2}},\"type\":\"bar\"}],\"scattergeo\":[{\"type\":\"scattergeo\",\"marker\":{\"colorbar\":{\"outlinewidth\":0,\"ticks\":\"\"}}}],\"scatterpolar\":[{\"type\":\"scatterpolar\",\"marker\":{\"colorbar\":{\"outlinewidth\":0,\"ticks\":\"\"}}}],\"histogram\":[{\"marker\":{\"pattern\":{\"fillmode\":\"overlay\",\"size\":10,\"solidity\":0.2}},\"type\":\"histogram\"}],\"scattergl\":[{\"type\":\"scattergl\",\"marker\":{\"colorbar\":{\"outlinewidth\":0,\"ticks\":\"\"}}}],\"scatter3d\":[{\"type\":\"scatter3d\",\"line\":{\"colorbar\":{\"outlinewidth\":0,\"ticks\":\"\"}},\"marker\":{\"colorbar\":{\"outlinewidth\":0,\"ticks\":\"\"}}}],\"scattermapbox\":[{\"type\":\"scattermapbox\",\"marker\":{\"colorbar\":{\"outlinewidth\":0,\"ticks\":\"\"}}}],\"scatterternary\":[{\"type\":\"scatterternary\",\"marker\":{\"colorbar\":{\"outlinewidth\":0,\"ticks\":\"\"}}}],\"scattercarpet\":[{\"type\":\"scattercarpet\",\"marker\":{\"colorbar\":{\"outlinewidth\":0,\"ticks\":\"\"}}}],\"carpet\":[{\"aaxis\":{\"endlinecolor\":\"#2a3f5f\",\"gridcolor\":\"white\",\"linecolor\":\"white\",\"minorgridcolor\":\"white\",\"startlinecolor\":\"#2a3f5f\"},\"baxis\":{\"endlinecolor\":\"#2a3f5f\",\"gridcolor\":\"white\",\"linecolor\":\"white\",\"minorgridcolor\":\"white\",\"startlinecolor\":\"#2a3f5f\"},\"type\":\"carpet\"}],\"table\":[{\"cells\":{\"fill\":{\"color\":\"#EBF0F8\"},\"line\":{\"color\":\"white\"}},\"header\":{\"fill\":{\"color\":\"#C8D4E3\"},\"line\":{\"color\":\"white\"}},\"type\":\"table\"}],\"barpolar\":[{\"marker\":{\"line\":{\"color\":\"#E5ECF6\",\"width\":0.5},\"pattern\":{\"fillmode\":\"overlay\",\"size\":10,\"solidity\":0.2}},\"type\":\"barpolar\"}],\"pie\":[{\"automargin\":true,\"type\":\"pie\"}]},\"layout\":{\"autotypenumbers\":\"strict\",\"colorway\":[\"#636efa\",\"#EF553B\",\"#00cc96\",\"#ab63fa\",\"#FFA15A\",\"#19d3f3\",\"#FF6692\",\"#B6E880\",\"#FF97FF\",\"#FECB52\"],\"font\":{\"color\":\"#2a3f5f\"},\"hovermode\":\"closest\",\"hoverlabel\":{\"align\":\"left\"},\"paper_bgcolor\":\"white\",\"plot_bgcolor\":\"#E5ECF6\",\"polar\":{\"bgcolor\":\"#E5ECF6\",\"angularaxis\":{\"gridcolor\":\"white\",\"linecolor\":\"white\",\"ticks\":\"\"},\"radialaxis\":{\"gridcolor\":\"white\",\"linecolor\":\"white\",\"ticks\":\"\"}},\"ternary\":{\"bgcolor\":\"#E5ECF6\",\"aaxis\":{\"gridcolor\":\"white\",\"linecolor\":\"white\",\"ticks\":\"\"},\"baxis\":{\"gridcolor\":\"white\",\"linecolor\":\"white\",\"ticks\":\"\"},\"caxis\":{\"gridcolor\":\"white\",\"linecolor\":\"white\",\"ticks\":\"\"}},\"coloraxis\":{\"colorbar\":{\"outlinewidth\":0,\"ticks\":\"\"}},\"colorscale\":{\"sequential\":[[0.0,\"#0d0887\"],[0.1111111111111111,\"#46039f\"],[0.2222222222222222,\"#7201a8\"],[0.3333333333333333,\"#9c179e\"],[0.4444444444444444,\"#bd3786\"],[0.5555555555555556,\"#d8576b\"],[0.6666666666666666,\"#ed7953\"],[0.7777777777777778,\"#fb9f3a\"],[0.8888888888888888,\"#fdca26\"],[1.0,\"#f0f921\"]],\"sequentialminus\":[[0.0,\"#0d0887\"],[0.1111111111111111,\"#46039f\"],[0.2222222222222222,\"#7201a8\"],[0.3333333333333333,\"#9c179e\"],[0.4444444444444444,\"#bd3786\"],[0.5555555555555556,\"#d8576b\"],[0.6666666666666666,\"#ed7953\"],[0.7777777777777778,\"#fb9f3a\"],[0.8888888888888888,\"#fdca26\"],[1.0,\"#f0f921\"]],\"diverging\":[[0,\"#8e0152\"],[0.1,\"#c51b7d\"],[0.2,\"#de77ae\"],[0.3,\"#f1b6da\"],[0.4,\"#fde0ef\"],[0.5,\"#f7f7f7\"],[0.6,\"#e6f5d0\"],[0.7,\"#b8e186\"],[0.8,\"#7fbc41\"],[0.9,\"#4d9221\"],[1,\"#276419\"]]},\"xaxis\":{\"gridcolor\":\"white\",\"linecolor\":\"white\",\"ticks\":\"\",\"title\":{\"standoff\":15},\"zerolinecolor\":\"white\",\"automargin\":true,\"zerolinewidth\":2},\"yaxis\":{\"gridcolor\":\"white\",\"linecolor\":\"white\",\"ticks\":\"\",\"title\":{\"standoff\":15},\"zerolinecolor\":\"white\",\"automargin\":true,\"zerolinewidth\":2},\"scene\":{\"xaxis\":{\"backgroundcolor\":\"#E5ECF6\",\"gridcolor\":\"white\",\"linecolor\":\"white\",\"showbackground\":true,\"ticks\":\"\",\"zerolinecolor\":\"white\",\"gridwidth\":2},\"yaxis\":{\"backgroundcolor\":\"#E5ECF6\",\"gridcolor\":\"white\",\"linecolor\":\"white\",\"showbackground\":true,\"ticks\":\"\",\"zerolinecolor\":\"white\",\"gridwidth\":2},\"zaxis\":{\"backgroundcolor\":\"#E5ECF6\",\"gridcolor\":\"white\",\"linecolor\":\"white\",\"showbackground\":true,\"ticks\":\"\",\"zerolinecolor\":\"white\",\"gridwidth\":2}},\"shapedefaults\":{\"line\":{\"color\":\"#2a3f5f\"}},\"annotationdefaults\":{\"arrowcolor\":\"#2a3f5f\",\"arrowhead\":0,\"arrowwidth\":1},\"geo\":{\"bgcolor\":\"white\",\"landcolor\":\"#E5ECF6\",\"subunitcolor\":\"white\",\"showland\":true,\"showlakes\":true,\"lakecolor\":\"white\"},\"title\":{\"x\":0.05},\"mapbox\":{\"style\":\"light\"}}},\"mapbox\":{\"domain\":{\"x\":[0.0,1.0],\"y\":[0.0,1.0]},\"center\":{\"lat\":-37.80798792045454,\"lon\":144.96488461363637},\"accesstoken\":\"pk.eyJ1IjoibmFuYXdhcmV0IiwiYSI6ImNqZnlkOHpwaTVvcjgzMHBvdW55c2lzcHIifQ.PiO1zMvZi1UHjwXl5FcIbg\",\"zoom\":8},\"legend\":{\"tracegroupgap\":0},\"margin\":{\"t\":60},\"height\":1000,\"width\":900},                        {\"responsive\": true}                    ).then(function(){\n",
       "                            \n",
       "var gd = document.getElementById('ae5cf90a-7a2b-42a5-8c83-9f221cff3581');\n",
       "var x = new MutationObserver(function (mutations, observer) {{\n",
       "        var display = window.getComputedStyle(gd).display;\n",
       "        if (!display || display === 'none') {{\n",
       "            console.log([gd, 'removed!']);\n",
       "            Plotly.purge(gd);\n",
       "            observer.disconnect();\n",
       "        }}\n",
       "}});\n",
       "\n",
       "// Listen for the removal of the full notebook cells\n",
       "var notebookContainer = gd.closest('#notebook-container');\n",
       "if (notebookContainer) {{\n",
       "    x.observe(notebookContainer, {childList: true});\n",
       "}}\n",
       "\n",
       "// Listen for the clearing of the current output cell\n",
       "var outputEl = gd.closest('.output');\n",
       "if (outputEl) {{\n",
       "    x.observe(outputEl, {childList: true});\n",
       "}}\n",
       "\n",
       "                        })                };                });            </script>        </div>"
      ]
     },
     "metadata": {},
     "output_type": "display_data"
    }
   ],
   "source": [
    "fig = px.scatter_mapbox(df_encoded, \n",
    "                     lat='latitude', \n",
    "                     lon='longitude', \n",
    "                     text='Name',width=900, height=1000)\n",
    "fig.show()"
   ]
  },
  {
   "cell_type": "code",
   "execution_count": null,
   "id": "d2c8a91e-780c-49de-99bc-0febee51e253",
   "metadata": {},
   "outputs": [],
   "source": []
  },
  {
   "cell_type": "code",
   "execution_count": null,
   "id": "1319a294-4d57-46da-80ce-4fbebf437d37",
   "metadata": {},
   "outputs": [],
   "source": []
  },
  {
   "cell_type": "code",
   "execution_count": null,
   "id": "abd01f0e-cbfe-4ac8-bd22-1bc6ab2eb8e1",
   "metadata": {},
   "outputs": [],
   "source": []
  },
  {
   "cell_type": "code",
   "execution_count": null,
   "id": "a6f67219-77bd-42ef-ac1e-6e9dd887ffdc",
   "metadata": {},
   "outputs": [],
   "source": []
  },
  {
   "cell_type": "code",
   "execution_count": null,
   "id": "c1742c66-2385-404c-af6e-dbe36fa58758",
   "metadata": {},
   "outputs": [],
   "source": []
  }
 ],
 "metadata": {
  "kernelspec": {
   "display_name": "Python 3 (ipykernel)",
   "language": "python",
   "name": "python3"
  },
  "language_info": {
   "codemirror_mode": {
    "name": "ipython",
    "version": 3
   },
   "file_extension": ".py",
   "mimetype": "text/x-python",
   "name": "python",
   "nbconvert_exporter": "python",
   "pygments_lexer": "ipython3",
   "version": "3.9.16"
  }
 },
 "nbformat": 4,
 "nbformat_minor": 5
}
